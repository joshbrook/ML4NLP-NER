{
 "cells": [
  {
   "cell_type": "code",
   "execution_count": null,
   "metadata": {},
   "outputs": [],
   "source": [
    "import pandas as pd\n",
    "import matplotlib.pyplot as plt\n",
    "from sklearn.metrics import f1_score\n",
    "from main import NER"
   ]
  },
  {
   "cell_type": "markdown",
   "metadata": {},
   "source": [
    "### Ablation groups - each group is a list of features to remove from the feature set\n"
   ]
  },
  {
   "cell_type": "code",
   "execution_count": null,
   "metadata": {},
   "outputs": [],
   "source": [
    "feat_groups = [[\"lemma\", \"pos\", \"chunk\", \"prev_token\", \"prev_pos\", \"next_token\", \"next_pos\", \"is_acronym\", \"is_cap\", \"is_oov\"],\n",
    "                [\"pos\", \"chunk\", \"prev_token\", \"prev_pos\", \"next_token\", \"next_pos\",],\n",
    "                [\"lemma\", \"pos\", \"chunk\", \"is_acronym\", \"is_cap\", \"is_oov\"],\n",
    "                [\"lemma\", \"pos\", \"chunk\", \"prev_token\", \"prev_pos\", \"next_token\", \"next_pos\"],\n",
    "                [\"lemma\", \"pos\", \"prev_token\", \"prev_pos\", \"next_token\", \"next_pos\", \"is_acronym\", \"is_cap\", \"is_oov\"],\n",
    "                [\"lemma\", \"chunk\", \"prev_token\", \"prev_pos\", \"next_token\", \"next_pos\", \"is_acronym\", \"is_cap\", \"is_oov\"],\n",
    "                [\"lemma\"],\n",
    "                [\"wv\" + str(i) for i in range(300)]]\n",
    "\n",
    "ner = NER()\n",
    "feats, gold = ner.extract_features_and_labels('data/conll2003.train.conll')"
   ]
  },
  {
   "cell_type": "code",
   "execution_count": null,
   "metadata": {},
   "outputs": [],
   "source": [
    "for i, group in enumerate(feat_groups):\n",
    "    mname = \"lr\" + str(i)\n",
    "    ner = NER(mname)\n",
    "    \n",
    "    print(\"Ablation \" + str(i) + \"\\n\")\n",
    "\n",
    "    new_feats = [{k: v for k, v in d.items() if k not in group} for d in feats]\n",
    "    \n",
    "    ml_model, vectoriser = ner.create_classifier(new_feats, gold)\n",
    "    ner.classify_data(ml_model, vectoriser)"
   ]
  },
  {
   "cell_type": "code",
   "execution_count": null,
   "metadata": {},
   "outputs": [],
   "source": [
    "res = []\n",
    "features, gold_labels = ner.extract_features_and_labels('data/conll2003.test.conll')\n",
    "scores = pd.DataFrame(index=[\"ORG\", \"MISC\", \"O\", \"LOC\", \"PER\"])\n",
    "\n",
    "for i in range(len(feat_groups)):\n",
    "    out = \"out/ablation\" + str(i) + \".txt\"\n",
    "    \n",
    "    out_labels = ner.extract_features_and_labels(out, simple=True)[1]\n",
    "    \n",
    "    df = pd.DataFrame({'gold': gold_labels})\n",
    "    df['out' + str(i)] = out_labels\n",
    "    \n",
    "    scores['F_' + str(i)] = f1_score(gold_labels, out_labels, average=\"macro\")\n",
    "\n",
    "scores.loc['AVERAGE'] = scores.mean()\n",
    "\n",
    "scores"
   ]
  },
  {
   "cell_type": "code",
   "execution_count": null,
   "metadata": {},
   "outputs": [],
   "source": [
    "plt.bar(scores.loc[\"AVERAGE\"].index, scores.loc[\"AVERAGE\"])\n",
    "plt.show()"
   ]
  }
 ],
 "metadata": {
  "language_info": {
   "name": "python"
  }
 },
 "nbformat": 4,
 "nbformat_minor": 2
}
