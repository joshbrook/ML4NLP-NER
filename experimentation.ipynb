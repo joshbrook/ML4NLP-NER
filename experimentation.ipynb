{
 "cells": [
  {
   "cell_type": "code",
   "execution_count": 2,
   "id": "d121d8ffee3b4abb",
   "metadata": {
    "ExecuteTime": {
     "end_time": "2023-11-06T13:17:39.639363200Z",
     "start_time": "2023-11-06T13:17:38.395850600Z"
    },
    "collapsed": false
   },
   "outputs": [],
   "source": [
    "import pandas as pd\n",
    "from collections import Counter\n",
    "import matplotlib.pyplot as plt"
   ]
  },
  {
   "cell_type": "code",
   "execution_count": 23,
   "id": "initial_id",
   "metadata": {
    "ExecuteTime": {
     "end_time": "2023-11-06T13:32:51.407854600Z",
     "start_time": "2023-11-06T13:32:51.119726500Z"
    },
    "collapsed": true
   },
   "outputs": [
    {
     "data": {
      "text/html": [
       "<div>\n",
       "<style scoped>\n",
       "    .dataframe tbody tr th:only-of-type {\n",
       "        vertical-align: middle;\n",
       "    }\n",
       "\n",
       "    .dataframe tbody tr th {\n",
       "        vertical-align: top;\n",
       "    }\n",
       "\n",
       "    .dataframe thead th {\n",
       "        text-align: right;\n",
       "    }\n",
       "</style>\n",
       "<table border=\"1\" class=\"dataframe\">\n",
       "  <thead>\n",
       "    <tr style=\"text-align: right;\">\n",
       "      <th></th>\n",
       "      <th>0</th>\n",
       "      <th>1</th>\n",
       "      <th>2</th>\n",
       "      <th>3</th>\n",
       "    </tr>\n",
       "  </thead>\n",
       "  <tbody>\n",
       "    <tr>\n",
       "      <th>0</th>\n",
       "      <td>EU</td>\n",
       "      <td>NNP</td>\n",
       "      <td>B-NP</td>\n",
       "      <td>B-ORG</td>\n",
       "    </tr>\n",
       "    <tr>\n",
       "      <th>1</th>\n",
       "      <td>rejects</td>\n",
       "      <td>VBZ</td>\n",
       "      <td>B-VP</td>\n",
       "      <td>O</td>\n",
       "    </tr>\n",
       "    <tr>\n",
       "      <th>2</th>\n",
       "      <td>German</td>\n",
       "      <td>JJ</td>\n",
       "      <td>B-NP</td>\n",
       "      <td>B-MISC</td>\n",
       "    </tr>\n",
       "    <tr>\n",
       "      <th>3</th>\n",
       "      <td>call</td>\n",
       "      <td>NN</td>\n",
       "      <td>I-NP</td>\n",
       "      <td>O</td>\n",
       "    </tr>\n",
       "    <tr>\n",
       "      <th>4</th>\n",
       "      <td>to</td>\n",
       "      <td>TO</td>\n",
       "      <td>B-VP</td>\n",
       "      <td>O</td>\n",
       "    </tr>\n",
       "    <tr>\n",
       "      <th>5</th>\n",
       "      <td>boycott</td>\n",
       "      <td>VB</td>\n",
       "      <td>I-VP</td>\n",
       "      <td>O</td>\n",
       "    </tr>\n",
       "    <tr>\n",
       "      <th>6</th>\n",
       "      <td>British</td>\n",
       "      <td>JJ</td>\n",
       "      <td>B-NP</td>\n",
       "      <td>B-MISC</td>\n",
       "    </tr>\n",
       "    <tr>\n",
       "      <th>7</th>\n",
       "      <td>lamb</td>\n",
       "      <td>NN</td>\n",
       "      <td>I-NP</td>\n",
       "      <td>O</td>\n",
       "    </tr>\n",
       "    <tr>\n",
       "      <th>8</th>\n",
       "      <td>.</td>\n",
       "      <td>.</td>\n",
       "      <td>O</td>\n",
       "      <td>O</td>\n",
       "    </tr>\n",
       "    <tr>\n",
       "      <th>9</th>\n",
       "      <td></td>\n",
       "      <td>None</td>\n",
       "      <td>None</td>\n",
       "      <td>None</td>\n",
       "    </tr>\n",
       "  </tbody>\n",
       "</table>\n",
       "</div>"
      ],
      "text/plain": [
       "         0     1     2       3\n",
       "0       EU   NNP  B-NP   B-ORG\n",
       "1  rejects   VBZ  B-VP       O\n",
       "2   German    JJ  B-NP  B-MISC\n",
       "3     call    NN  I-NP       O\n",
       "4       to    TO  B-VP       O\n",
       "5  boycott    VB  I-VP       O\n",
       "6  British    JJ  B-NP  B-MISC\n",
       "7     lamb    NN  I-NP       O\n",
       "8        .     .     O       O\n",
       "9           None  None    None"
      ]
     },
     "execution_count": 23,
     "metadata": {},
     "output_type": "execute_result"
    }
   ],
   "source": [
    "with open('data/conll2003.train.conll', \"r\") as f:\n",
    "    lines = [l.split(\"\\t\") for l in f.read().splitlines()]\n",
    "    \n",
    "train = pd.DataFrame(lines)\n",
    "train.head(10)"
   ]
  },
  {
   "cell_type": "code",
   "execution_count": 24,
   "id": "ab876e5a56017643",
   "metadata": {
    "ExecuteTime": {
     "end_time": "2023-11-06T13:33:01.446481600Z",
     "start_time": "2023-11-06T13:33:01.344963900Z"
    },
    "collapsed": false
   },
   "outputs": [],
   "source": [
    "NE_tags = train[3].replace({'I-ORG': 'ORG', \n",
    "                             'B-ORG': 'ORG',\n",
    "                             'I-PER': 'PER',\n",
    "                             'B-PER': 'PER',\n",
    "                             'I-LOC': 'LOC',\n",
    "                             'B-LOC': 'LOC',\n",
    "                             'I-MISC': 'MISC',\n",
    "                             'B-MISC': 'MISC'})\n",
    "                             "
   ]
  },
  {
   "cell_type": "code",
   "execution_count": 33,
   "id": "68ba2e0f5b922356",
   "metadata": {
    "ExecuteTime": {
     "end_time": "2023-11-07T14:00:33.918960900Z",
     "start_time": "2023-11-07T14:00:33.802447500Z"
    },
    "collapsed": false
   },
   "outputs": [
    {
     "data": {
      "image/png": "[encoded data removed]",
      "text/plain": [
       "<Figure size 640x480 with 1 Axes>"
      ]
     },
     "metadata": {},
     "output_type": "display_data"
    },
    {
     "data": {
      "text/plain": [
       "Counter({'PER': 11128, 'ORG': 10025, 'LOC': 8297, 'MISC': 4593})"
      ]
     },
     "execution_count": 33,
     "metadata": {},
     "output_type": "execute_result"
    }
   ],
   "source": [
    "NE_count = Counter(NE_tags)\n",
    "del NE_count['O']\n",
    "del NE_count[None]\n",
    "plt.bar(NE_count.keys(), NE_count.values(), color='#e39546')\n",
    "plt.xticks(fontsize=10, fontname=\"serif\")\n",
    "plt.yticks(fontsize=10, fontname=\"serif\")\n",
    "plt.xlabel('Named Entity Tag', labelpad=14, fontdict={'fontsize': 12, \"family\": \"serif\"})\n",
    "plt.ylabel('Count', labelpad=12, fontdict={'fontsize': 12, \"family\": \"serif\"})\n",
    "plt.title('Named Entity Count', pad=14, fontdict={'fontsize': 18, \"family\": \"serif\"})\n",
    "plt.show()\n",
    "NE_count"
   ]
  },
  {
   "cell_type": "code",
   "execution_count": 13,
   "id": "49eb5d2ead1916ec",
   "metadata": {
    "ExecuteTime": {
     "end_time": "2023-11-06T13:25:27.701579300Z",
     "start_time": "2023-11-06T13:25:27.673685200Z"
    },
    "collapsed": false
   },
   "outputs": [],
   "source": []
  },
  {
   "cell_type": "code",
   "execution_count": null,
   "id": "bc5ba21726686428",
   "metadata": {
    "collapsed": false
   },
   "outputs": [],
   "source": []
  }
 ],
 "metadata": {
  "kernelspec": {
   "display_name": "Python 3",
   "language": "python",
   "name": "python3"
  },
  "language_info": {
   "codemirror_mode": {
    "name": "ipython",
    "version": 2
   },
   "file_extension": ".py",
   "mimetype": "text/x-python",
   "name": "python",
   "nbconvert_exporter": "python",
   "pygments_lexer": "ipython2",
   "version": "2.7.6"
  }
 },
 "nbformat": 4,
 "nbformat_minor": 5
}
